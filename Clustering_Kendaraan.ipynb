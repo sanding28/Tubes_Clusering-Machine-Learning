{
  "nbformat": 4,
  "nbformat_minor": 0,
  "metadata": {
    "colab": {
      "name": "Clustering_Kendaraan.ipynb",
      "provenance": []
    },
    "kernelspec": {
      "display_name": "Python 3",
      "name": "python3"
    },
    "language_info": {
      "name": "python"
    }
  },
  "cells": [
    {
      "cell_type": "code",
      "metadata": {
        "id": "ry0Z5QQItLd4"
      },
      "source": [
        "#import \n",
        "\n",
        "import numpy as np\n",
        "import pandas as pd\n",
        "import matplotlib.pyplot as plt\n",
        "import seaborn as sns\n",
        "import random\n",
        "from scipy.spatial.distance import cdist\n",
        "from sklearn.cluster import KMeans as sklearnKMeans"
      ],
      "execution_count": null,
      "outputs": []
    },
    {
      "cell_type": "code",
      "metadata": {
        "colab": {
          "base_uri": "https://localhost:8080/",
          "height": 417
        },
        "id": "QwhhtITduK6k",
        "outputId": "ef53cc3c-47e4-49c6-ac7c-54ada74de480"
      },
      "source": [
        "df_train = pd.read_csv(\"kendaraan_train.csv\")\n",
        "df_test = pd.read_csv(\"kendaraan_test.csv\")\n",
        "\n",
        "df_concat = (df_train, df_test)\n",
        "df_kendaraan = pd.concat (df_concat)\n",
        "\n",
        "df_kendaraan\n"
      ],
      "execution_count": null,
      "outputs": [
        {
          "output_type": "execute_result",
          "data": {
            "text/html": [
              "<div>\n",
              "<style scoped>\n",
              "    .dataframe tbody tr th:only-of-type {\n",
              "        vertical-align: middle;\n",
              "    }\n",
              "\n",
              "    .dataframe tbody tr th {\n",
              "        vertical-align: top;\n",
              "    }\n",
              "\n",
              "    .dataframe thead th {\n",
              "        text-align: right;\n",
              "    }\n",
              "</style>\n",
              "<table border=\"1\" class=\"dataframe\">\n",
              "  <thead>\n",
              "    <tr style=\"text-align: right;\">\n",
              "      <th></th>\n",
              "      <th>id</th>\n",
              "      <th>Jenis_Kelamin</th>\n",
              "      <th>Umur</th>\n",
              "      <th>SIM</th>\n",
              "      <th>Kode_Daerah</th>\n",
              "      <th>Sudah_Asuransi</th>\n",
              "      <th>Umur_Kendaraan</th>\n",
              "      <th>Kendaraan_Rusak</th>\n",
              "      <th>Premi</th>\n",
              "      <th>Kanal_Penjualan</th>\n",
              "      <th>Lama_Berlangganan</th>\n",
              "      <th>Tertarik</th>\n",
              "    </tr>\n",
              "  </thead>\n",
              "  <tbody>\n",
              "    <tr>\n",
              "      <th>0</th>\n",
              "      <td>1.0</td>\n",
              "      <td>Wanita</td>\n",
              "      <td>30.0</td>\n",
              "      <td>1.0</td>\n",
              "      <td>33.0</td>\n",
              "      <td>1.0</td>\n",
              "      <td>&lt; 1 Tahun</td>\n",
              "      <td>Tidak</td>\n",
              "      <td>28029.0</td>\n",
              "      <td>152.0</td>\n",
              "      <td>97.0</td>\n",
              "      <td>0</td>\n",
              "    </tr>\n",
              "    <tr>\n",
              "      <th>1</th>\n",
              "      <td>2.0</td>\n",
              "      <td>Pria</td>\n",
              "      <td>48.0</td>\n",
              "      <td>1.0</td>\n",
              "      <td>39.0</td>\n",
              "      <td>0.0</td>\n",
              "      <td>&gt; 2 Tahun</td>\n",
              "      <td>Pernah</td>\n",
              "      <td>25800.0</td>\n",
              "      <td>29.0</td>\n",
              "      <td>158.0</td>\n",
              "      <td>0</td>\n",
              "    </tr>\n",
              "    <tr>\n",
              "      <th>2</th>\n",
              "      <td>3.0</td>\n",
              "      <td>NaN</td>\n",
              "      <td>21.0</td>\n",
              "      <td>1.0</td>\n",
              "      <td>46.0</td>\n",
              "      <td>1.0</td>\n",
              "      <td>&lt; 1 Tahun</td>\n",
              "      <td>Tidak</td>\n",
              "      <td>32733.0</td>\n",
              "      <td>160.0</td>\n",
              "      <td>119.0</td>\n",
              "      <td>0</td>\n",
              "    </tr>\n",
              "    <tr>\n",
              "      <th>3</th>\n",
              "      <td>4.0</td>\n",
              "      <td>Wanita</td>\n",
              "      <td>58.0</td>\n",
              "      <td>1.0</td>\n",
              "      <td>48.0</td>\n",
              "      <td>0.0</td>\n",
              "      <td>1-2 Tahun</td>\n",
              "      <td>Tidak</td>\n",
              "      <td>2630.0</td>\n",
              "      <td>124.0</td>\n",
              "      <td>63.0</td>\n",
              "      <td>0</td>\n",
              "    </tr>\n",
              "    <tr>\n",
              "      <th>4</th>\n",
              "      <td>5.0</td>\n",
              "      <td>Pria</td>\n",
              "      <td>50.0</td>\n",
              "      <td>1.0</td>\n",
              "      <td>35.0</td>\n",
              "      <td>0.0</td>\n",
              "      <td>&gt; 2 Tahun</td>\n",
              "      <td>NaN</td>\n",
              "      <td>34857.0</td>\n",
              "      <td>88.0</td>\n",
              "      <td>194.0</td>\n",
              "      <td>0</td>\n",
              "    </tr>\n",
              "    <tr>\n",
              "      <th>...</th>\n",
              "      <td>...</td>\n",
              "      <td>...</td>\n",
              "      <td>...</td>\n",
              "      <td>...</td>\n",
              "      <td>...</td>\n",
              "      <td>...</td>\n",
              "      <td>...</td>\n",
              "      <td>...</td>\n",
              "      <td>...</td>\n",
              "      <td>...</td>\n",
              "      <td>...</td>\n",
              "      <td>...</td>\n",
              "    </tr>\n",
              "    <tr>\n",
              "      <th>47634</th>\n",
              "      <td>NaN</td>\n",
              "      <td>Pria</td>\n",
              "      <td>61.0</td>\n",
              "      <td>1.0</td>\n",
              "      <td>46.0</td>\n",
              "      <td>0.0</td>\n",
              "      <td>&gt; 2 Tahun</td>\n",
              "      <td>Pernah</td>\n",
              "      <td>31039.0</td>\n",
              "      <td>124.0</td>\n",
              "      <td>67.0</td>\n",
              "      <td>0</td>\n",
              "    </tr>\n",
              "    <tr>\n",
              "      <th>47635</th>\n",
              "      <td>NaN</td>\n",
              "      <td>Pria</td>\n",
              "      <td>41.0</td>\n",
              "      <td>1.0</td>\n",
              "      <td>15.0</td>\n",
              "      <td>0.0</td>\n",
              "      <td>1-2 Tahun</td>\n",
              "      <td>Pernah</td>\n",
              "      <td>2630.0</td>\n",
              "      <td>157.0</td>\n",
              "      <td>232.0</td>\n",
              "      <td>0</td>\n",
              "    </tr>\n",
              "    <tr>\n",
              "      <th>47636</th>\n",
              "      <td>NaN</td>\n",
              "      <td>Pria</td>\n",
              "      <td>24.0</td>\n",
              "      <td>1.0</td>\n",
              "      <td>29.0</td>\n",
              "      <td>1.0</td>\n",
              "      <td>&lt; 1 Tahun</td>\n",
              "      <td>Tidak</td>\n",
              "      <td>33101.0</td>\n",
              "      <td>152.0</td>\n",
              "      <td>211.0</td>\n",
              "      <td>0</td>\n",
              "    </tr>\n",
              "    <tr>\n",
              "      <th>47637</th>\n",
              "      <td>NaN</td>\n",
              "      <td>Pria</td>\n",
              "      <td>59.0</td>\n",
              "      <td>1.0</td>\n",
              "      <td>30.0</td>\n",
              "      <td>0.0</td>\n",
              "      <td>1-2 Tahun</td>\n",
              "      <td>Pernah</td>\n",
              "      <td>37788.0</td>\n",
              "      <td>26.0</td>\n",
              "      <td>239.0</td>\n",
              "      <td>1</td>\n",
              "    </tr>\n",
              "    <tr>\n",
              "      <th>47638</th>\n",
              "      <td>NaN</td>\n",
              "      <td>Pria</td>\n",
              "      <td>52.0</td>\n",
              "      <td>1.0</td>\n",
              "      <td>31.0</td>\n",
              "      <td>0.0</td>\n",
              "      <td>1-2 Tahun</td>\n",
              "      <td>Tidak</td>\n",
              "      <td>2630.0</td>\n",
              "      <td>124.0</td>\n",
              "      <td>170.0</td>\n",
              "      <td>0</td>\n",
              "    </tr>\n",
              "  </tbody>\n",
              "</table>\n",
              "<p>333470 rows × 12 columns</p>\n",
              "</div>"
            ],
            "text/plain": [
              "        id Jenis_Kelamin  Umur  ...  Kanal_Penjualan  Lama_Berlangganan  Tertarik\n",
              "0      1.0        Wanita  30.0  ...            152.0               97.0         0\n",
              "1      2.0          Pria  48.0  ...             29.0              158.0         0\n",
              "2      3.0           NaN  21.0  ...            160.0              119.0         0\n",
              "3      4.0        Wanita  58.0  ...            124.0               63.0         0\n",
              "4      5.0          Pria  50.0  ...             88.0              194.0         0\n",
              "...    ...           ...   ...  ...              ...                ...       ...\n",
              "47634  NaN          Pria  61.0  ...            124.0               67.0         0\n",
              "47635  NaN          Pria  41.0  ...            157.0              232.0         0\n",
              "47636  NaN          Pria  24.0  ...            152.0              211.0         0\n",
              "47637  NaN          Pria  59.0  ...             26.0              239.0         1\n",
              "47638  NaN          Pria  52.0  ...            124.0              170.0         0\n",
              "\n",
              "[333470 rows x 12 columns]"
            ]
          },
          "metadata": {},
          "execution_count": 74
        }
      ]
    },
    {
      "cell_type": "code",
      "metadata": {
        "colab": {
          "base_uri": "https://localhost:8080/"
        },
        "id": "hRAyDqAgx5sm",
        "outputId": "5aed8863-7ad9-4ad8-99fe-372c23101161"
      },
      "source": [
        "df_kendaraan.info()"
      ],
      "execution_count": null,
      "outputs": [
        {
          "output_type": "stream",
          "name": "stdout",
          "text": [
            "<class 'pandas.core.frame.DataFrame'>\n",
            "Int64Index: 333470 entries, 0 to 47638\n",
            "Data columns (total 12 columns):\n",
            " #   Column             Non-Null Count   Dtype  \n",
            "---  ------             --------------   -----  \n",
            " 0   id                 285831 non-null  float64\n",
            " 1   Jenis_Kelamin      319030 non-null  object \n",
            " 2   Umur               319256 non-null  float64\n",
            " 3   SIM                319066 non-null  float64\n",
            " 4   Kode_Daerah        319164 non-null  float64\n",
            " 5   Sudah_Asuransi     319241 non-null  float64\n",
            " 6   Umur_Kendaraan     319195 non-null  object \n",
            " 7   Kendaraan_Rusak    319282 non-null  object \n",
            " 8   Premi              318901 non-null  float64\n",
            " 9   Kanal_Penjualan    319171 non-null  float64\n",
            " 10  Lama_Berlangganan  319478 non-null  float64\n",
            " 11  Tertarik           333470 non-null  int64  \n",
            "dtypes: float64(8), int64(1), object(3)\n",
            "memory usage: 33.1+ MB\n"
          ]
        }
      ]
    },
    {
      "cell_type": "code",
      "metadata": {
        "colab": {
          "base_uri": "https://localhost:8080/",
          "height": 295
        },
        "id": "4NV1xzGMyGMq",
        "outputId": "80260c6e-9472-4a59-d3f9-dbae33029c26"
      },
      "source": [
        "df_kendaraan.describe()"
      ],
      "execution_count": null,
      "outputs": [
        {
          "output_type": "execute_result",
          "data": {
            "text/html": [
              "<div>\n",
              "<style scoped>\n",
              "    .dataframe tbody tr th:only-of-type {\n",
              "        vertical-align: middle;\n",
              "    }\n",
              "\n",
              "    .dataframe tbody tr th {\n",
              "        vertical-align: top;\n",
              "    }\n",
              "\n",
              "    .dataframe thead th {\n",
              "        text-align: right;\n",
              "    }\n",
              "</style>\n",
              "<table border=\"1\" class=\"dataframe\">\n",
              "  <thead>\n",
              "    <tr style=\"text-align: right;\">\n",
              "      <th></th>\n",
              "      <th>id</th>\n",
              "      <th>Umur</th>\n",
              "      <th>SIM</th>\n",
              "      <th>Kode_Daerah</th>\n",
              "      <th>Sudah_Asuransi</th>\n",
              "      <th>Premi</th>\n",
              "      <th>Kanal_Penjualan</th>\n",
              "      <th>Lama_Berlangganan</th>\n",
              "      <th>Tertarik</th>\n",
              "    </tr>\n",
              "  </thead>\n",
              "  <tbody>\n",
              "    <tr>\n",
              "      <th>count</th>\n",
              "      <td>285831.000000</td>\n",
              "      <td>319256.000000</td>\n",
              "      <td>319066.000000</td>\n",
              "      <td>319164.000000</td>\n",
              "      <td>319241.000000</td>\n",
              "      <td>318901.000000</td>\n",
              "      <td>319171.000000</td>\n",
              "      <td>319478.000000</td>\n",
              "      <td>333470.000000</td>\n",
              "    </tr>\n",
              "    <tr>\n",
              "      <th>mean</th>\n",
              "      <td>142916.000000</td>\n",
              "      <td>38.840028</td>\n",
              "      <td>0.997859</td>\n",
              "      <td>26.394380</td>\n",
              "      <td>0.458603</td>\n",
              "      <td>30550.097899</td>\n",
              "      <td>112.045299</td>\n",
              "      <td>154.310350</td>\n",
              "      <td>0.122551</td>\n",
              "    </tr>\n",
              "    <tr>\n",
              "      <th>std</th>\n",
              "      <td>82512.446734</td>\n",
              "      <td>15.526398</td>\n",
              "      <td>0.046217</td>\n",
              "      <td>13.246852</td>\n",
              "      <td>0.498284</td>\n",
              "      <td>17192.548724</td>\n",
              "      <td>54.196470</td>\n",
              "      <td>83.686932</td>\n",
              "      <td>0.327921</td>\n",
              "    </tr>\n",
              "    <tr>\n",
              "      <th>min</th>\n",
              "      <td>1.000000</td>\n",
              "      <td>20.000000</td>\n",
              "      <td>0.000000</td>\n",
              "      <td>0.000000</td>\n",
              "      <td>0.000000</td>\n",
              "      <td>2630.000000</td>\n",
              "      <td>1.000000</td>\n",
              "      <td>10.000000</td>\n",
              "      <td>0.000000</td>\n",
              "    </tr>\n",
              "    <tr>\n",
              "      <th>25%</th>\n",
              "      <td>71458.500000</td>\n",
              "      <td>25.000000</td>\n",
              "      <td>1.000000</td>\n",
              "      <td>15.000000</td>\n",
              "      <td>0.000000</td>\n",
              "      <td>24397.000000</td>\n",
              "      <td>29.000000</td>\n",
              "      <td>82.000000</td>\n",
              "      <td>0.000000</td>\n",
              "    </tr>\n",
              "    <tr>\n",
              "      <th>50%</th>\n",
              "      <td>142916.000000</td>\n",
              "      <td>36.000000</td>\n",
              "      <td>1.000000</td>\n",
              "      <td>28.000000</td>\n",
              "      <td>0.000000</td>\n",
              "      <td>31660.000000</td>\n",
              "      <td>133.000000</td>\n",
              "      <td>154.000000</td>\n",
              "      <td>0.000000</td>\n",
              "    </tr>\n",
              "    <tr>\n",
              "      <th>75%</th>\n",
              "      <td>214373.500000</td>\n",
              "      <td>49.000000</td>\n",
              "      <td>1.000000</td>\n",
              "      <td>35.000000</td>\n",
              "      <td>1.000000</td>\n",
              "      <td>39392.000000</td>\n",
              "      <td>152.000000</td>\n",
              "      <td>227.000000</td>\n",
              "      <td>0.000000</td>\n",
              "    </tr>\n",
              "    <tr>\n",
              "      <th>max</th>\n",
              "      <td>285831.000000</td>\n",
              "      <td>85.000000</td>\n",
              "      <td>1.000000</td>\n",
              "      <td>52.000000</td>\n",
              "      <td>1.000000</td>\n",
              "      <td>540165.000000</td>\n",
              "      <td>163.000000</td>\n",
              "      <td>299.000000</td>\n",
              "      <td>1.000000</td>\n",
              "    </tr>\n",
              "  </tbody>\n",
              "</table>\n",
              "</div>"
            ],
            "text/plain": [
              "                  id           Umur  ...  Lama_Berlangganan       Tertarik\n",
              "count  285831.000000  319256.000000  ...      319478.000000  333470.000000\n",
              "mean   142916.000000      38.840028  ...         154.310350       0.122551\n",
              "std     82512.446734      15.526398  ...          83.686932       0.327921\n",
              "min         1.000000      20.000000  ...          10.000000       0.000000\n",
              "25%     71458.500000      25.000000  ...          82.000000       0.000000\n",
              "50%    142916.000000      36.000000  ...         154.000000       0.000000\n",
              "75%    214373.500000      49.000000  ...         227.000000       0.000000\n",
              "max    285831.000000      85.000000  ...         299.000000       1.000000\n",
              "\n",
              "[8 rows x 9 columns]"
            ]
          },
          "metadata": {},
          "execution_count": 76
        }
      ]
    },
    {
      "cell_type": "code",
      "metadata": {
        "id": "9HIbY3cv1ei_"
      },
      "source": [
        "# #pengambilan kolom Umur dan Sudah_Asuransi\n",
        "# df_cluster = df_kendaraan.loc[:,[\"Umur\", \"Kanal_Penjualan\"]]\n",
        "# df_cluster.info()\n",
        "# df_cluster = df_cluster.iloc[:10000]\n",
        "\n",
        "# data_hilang = df_cluster.isnull()\n",
        "# for column in data_hilang.columns.values.tolist():\n",
        "#   print(column)\n",
        "#   print(data_hilang[column].value_counts())\n",
        "#   print(\" \")"
      ],
      "execution_count": null,
      "outputs": []
    },
    {
      "cell_type": "code",
      "metadata": {
        "id": "Nl6-fUKX5IDI"
      },
      "source": [
        "# df_kendaraan.isna().sum()"
      ],
      "execution_count": null,
      "outputs": []
    },
    {
      "cell_type": "code",
      "metadata": {
        "id": "o8V-kF-EmG_O"
      },
      "source": [
        "# new_df_kendaraan = df_kendaraan\n",
        "# new_df_kendaraan.dropna(inplace=True)\n",
        "# new_df_kendaraan = new_df_kendaraan.reset_index(drop=True)"
      ],
      "execution_count": null,
      "outputs": []
    },
    {
      "cell_type": "code",
      "metadata": {
        "id": "Zquf1d0amjho"
      },
      "source": [
        "\n",
        "# new_df_kendaraan.isnull().sum()\n",
        "# new_df_kendaraan"
      ],
      "execution_count": null,
      "outputs": []
    },
    {
      "cell_type": "code",
      "metadata": {
        "id": "UeiMF1TC9aJp"
      },
      "source": [
        "new_df_kendaraan = df_kendaraan.drop(columns=['id', 'Tertarik'])"
      ],
      "execution_count": null,
      "outputs": []
    },
    {
      "cell_type": "code",
      "metadata": {
        "colab": {
          "base_uri": "https://localhost:8080/",
          "height": 417
        },
        "id": "XYpjZm8I9q6c",
        "outputId": "1eaffd4b-78d5-412a-a588-1bbacf1fba46"
      },
      "source": [
        "new_df_kendaraan"
      ],
      "execution_count": null,
      "outputs": [
        {
          "output_type": "execute_result",
          "data": {
            "text/html": [
              "<div>\n",
              "<style scoped>\n",
              "    .dataframe tbody tr th:only-of-type {\n",
              "        vertical-align: middle;\n",
              "    }\n",
              "\n",
              "    .dataframe tbody tr th {\n",
              "        vertical-align: top;\n",
              "    }\n",
              "\n",
              "    .dataframe thead th {\n",
              "        text-align: right;\n",
              "    }\n",
              "</style>\n",
              "<table border=\"1\" class=\"dataframe\">\n",
              "  <thead>\n",
              "    <tr style=\"text-align: right;\">\n",
              "      <th></th>\n",
              "      <th>Jenis_Kelamin</th>\n",
              "      <th>Umur</th>\n",
              "      <th>SIM</th>\n",
              "      <th>Kode_Daerah</th>\n",
              "      <th>Sudah_Asuransi</th>\n",
              "      <th>Umur_Kendaraan</th>\n",
              "      <th>Kendaraan_Rusak</th>\n",
              "      <th>Premi</th>\n",
              "      <th>Kanal_Penjualan</th>\n",
              "      <th>Lama_Berlangganan</th>\n",
              "    </tr>\n",
              "  </thead>\n",
              "  <tbody>\n",
              "    <tr>\n",
              "      <th>0</th>\n",
              "      <td>Wanita</td>\n",
              "      <td>30.0</td>\n",
              "      <td>1.0</td>\n",
              "      <td>33.0</td>\n",
              "      <td>1.0</td>\n",
              "      <td>&lt; 1 Tahun</td>\n",
              "      <td>Tidak</td>\n",
              "      <td>28029.0</td>\n",
              "      <td>152.0</td>\n",
              "      <td>97.0</td>\n",
              "    </tr>\n",
              "    <tr>\n",
              "      <th>1</th>\n",
              "      <td>Pria</td>\n",
              "      <td>48.0</td>\n",
              "      <td>1.0</td>\n",
              "      <td>39.0</td>\n",
              "      <td>0.0</td>\n",
              "      <td>&gt; 2 Tahun</td>\n",
              "      <td>Pernah</td>\n",
              "      <td>25800.0</td>\n",
              "      <td>29.0</td>\n",
              "      <td>158.0</td>\n",
              "    </tr>\n",
              "    <tr>\n",
              "      <th>2</th>\n",
              "      <td>NaN</td>\n",
              "      <td>21.0</td>\n",
              "      <td>1.0</td>\n",
              "      <td>46.0</td>\n",
              "      <td>1.0</td>\n",
              "      <td>&lt; 1 Tahun</td>\n",
              "      <td>Tidak</td>\n",
              "      <td>32733.0</td>\n",
              "      <td>160.0</td>\n",
              "      <td>119.0</td>\n",
              "    </tr>\n",
              "    <tr>\n",
              "      <th>3</th>\n",
              "      <td>Wanita</td>\n",
              "      <td>58.0</td>\n",
              "      <td>1.0</td>\n",
              "      <td>48.0</td>\n",
              "      <td>0.0</td>\n",
              "      <td>1-2 Tahun</td>\n",
              "      <td>Tidak</td>\n",
              "      <td>2630.0</td>\n",
              "      <td>124.0</td>\n",
              "      <td>63.0</td>\n",
              "    </tr>\n",
              "    <tr>\n",
              "      <th>4</th>\n",
              "      <td>Pria</td>\n",
              "      <td>50.0</td>\n",
              "      <td>1.0</td>\n",
              "      <td>35.0</td>\n",
              "      <td>0.0</td>\n",
              "      <td>&gt; 2 Tahun</td>\n",
              "      <td>NaN</td>\n",
              "      <td>34857.0</td>\n",
              "      <td>88.0</td>\n",
              "      <td>194.0</td>\n",
              "    </tr>\n",
              "    <tr>\n",
              "      <th>...</th>\n",
              "      <td>...</td>\n",
              "      <td>...</td>\n",
              "      <td>...</td>\n",
              "      <td>...</td>\n",
              "      <td>...</td>\n",
              "      <td>...</td>\n",
              "      <td>...</td>\n",
              "      <td>...</td>\n",
              "      <td>...</td>\n",
              "      <td>...</td>\n",
              "    </tr>\n",
              "    <tr>\n",
              "      <th>47634</th>\n",
              "      <td>Pria</td>\n",
              "      <td>61.0</td>\n",
              "      <td>1.0</td>\n",
              "      <td>46.0</td>\n",
              "      <td>0.0</td>\n",
              "      <td>&gt; 2 Tahun</td>\n",
              "      <td>Pernah</td>\n",
              "      <td>31039.0</td>\n",
              "      <td>124.0</td>\n",
              "      <td>67.0</td>\n",
              "    </tr>\n",
              "    <tr>\n",
              "      <th>47635</th>\n",
              "      <td>Pria</td>\n",
              "      <td>41.0</td>\n",
              "      <td>1.0</td>\n",
              "      <td>15.0</td>\n",
              "      <td>0.0</td>\n",
              "      <td>1-2 Tahun</td>\n",
              "      <td>Pernah</td>\n",
              "      <td>2630.0</td>\n",
              "      <td>157.0</td>\n",
              "      <td>232.0</td>\n",
              "    </tr>\n",
              "    <tr>\n",
              "      <th>47636</th>\n",
              "      <td>Pria</td>\n",
              "      <td>24.0</td>\n",
              "      <td>1.0</td>\n",
              "      <td>29.0</td>\n",
              "      <td>1.0</td>\n",
              "      <td>&lt; 1 Tahun</td>\n",
              "      <td>Tidak</td>\n",
              "      <td>33101.0</td>\n",
              "      <td>152.0</td>\n",
              "      <td>211.0</td>\n",
              "    </tr>\n",
              "    <tr>\n",
              "      <th>47637</th>\n",
              "      <td>Pria</td>\n",
              "      <td>59.0</td>\n",
              "      <td>1.0</td>\n",
              "      <td>30.0</td>\n",
              "      <td>0.0</td>\n",
              "      <td>1-2 Tahun</td>\n",
              "      <td>Pernah</td>\n",
              "      <td>37788.0</td>\n",
              "      <td>26.0</td>\n",
              "      <td>239.0</td>\n",
              "    </tr>\n",
              "    <tr>\n",
              "      <th>47638</th>\n",
              "      <td>Pria</td>\n",
              "      <td>52.0</td>\n",
              "      <td>1.0</td>\n",
              "      <td>31.0</td>\n",
              "      <td>0.0</td>\n",
              "      <td>1-2 Tahun</td>\n",
              "      <td>Tidak</td>\n",
              "      <td>2630.0</td>\n",
              "      <td>124.0</td>\n",
              "      <td>170.0</td>\n",
              "    </tr>\n",
              "  </tbody>\n",
              "</table>\n",
              "<p>333470 rows × 10 columns</p>\n",
              "</div>"
            ],
            "text/plain": [
              "      Jenis_Kelamin  Umur  SIM  ...    Premi  Kanal_Penjualan Lama_Berlangganan\n",
              "0            Wanita  30.0  1.0  ...  28029.0            152.0              97.0\n",
              "1              Pria  48.0  1.0  ...  25800.0             29.0             158.0\n",
              "2               NaN  21.0  1.0  ...  32733.0            160.0             119.0\n",
              "3            Wanita  58.0  1.0  ...   2630.0            124.0              63.0\n",
              "4              Pria  50.0  1.0  ...  34857.0             88.0             194.0\n",
              "...             ...   ...  ...  ...      ...              ...               ...\n",
              "47634          Pria  61.0  1.0  ...  31039.0            124.0              67.0\n",
              "47635          Pria  41.0  1.0  ...   2630.0            157.0             232.0\n",
              "47636          Pria  24.0  1.0  ...  33101.0            152.0             211.0\n",
              "47637          Pria  59.0  1.0  ...  37788.0             26.0             239.0\n",
              "47638          Pria  52.0  1.0  ...   2630.0            124.0             170.0\n",
              "\n",
              "[333470 rows x 10 columns]"
            ]
          },
          "metadata": {},
          "execution_count": 79
        }
      ]
    },
    {
      "cell_type": "code",
      "metadata": {
        "colab": {
          "base_uri": "https://localhost:8080/"
        },
        "id": "XRwQ8crrlrhc",
        "outputId": "cca85f4a-50af-4fc9-8f28-a5b67626e1bb"
      },
      "source": [
        "new_df_kendaraan.isna().sum()"
      ],
      "execution_count": null,
      "outputs": [
        {
          "output_type": "execute_result",
          "data": {
            "text/plain": [
              "Jenis_Kelamin        14440\n",
              "Umur                 14214\n",
              "SIM                  14404\n",
              "Kode_Daerah          14306\n",
              "Sudah_Asuransi       14229\n",
              "Umur_Kendaraan       14275\n",
              "Kendaraan_Rusak      14188\n",
              "Premi                14569\n",
              "Kanal_Penjualan      14299\n",
              "Lama_Berlangganan    13992\n",
              "dtype: int64"
            ]
          },
          "metadata": {},
          "execution_count": 80
        }
      ]
    },
    {
      "cell_type": "code",
      "metadata": {
        "id": "oAX04NIlq1KQ"
      },
      "source": [
        "#mengganti nilai null dengan mean dam modus\n",
        "new_df_kendaraan['Jenis_Kelamin'] = new_df_kendaraan['Jenis_Kelamin'].fillna(new_df_kendaraan['Jenis_Kelamin'].mode()[0])\n",
        "new_df_kendaraan['Umur'] = new_df_kendaraan['Umur'].fillna(new_df_kendaraan['Umur'].mean())\n",
        "new_df_kendaraan['SIM'] = new_df_kendaraan['SIM'].fillna(new_df_kendaraan['SIM'].mode()[0])\n",
        "new_df_kendaraan['Kode_Daerah'] = new_df_kendaraan['Kode_Daerah'].fillna(new_df_kendaraan['Kode_Daerah'].mode()[0])\n",
        "new_df_kendaraan['Sudah_Asuransi'] = new_df_kendaraan['Sudah_Asuransi'].fillna(new_df_kendaraan['Sudah_Asuransi'].mode()[0])\n",
        "new_df_kendaraan['Umur_Kendaraan'] = new_df_kendaraan['Umur_Kendaraan'].fillna(new_df_kendaraan['Umur_Kendaraan'].mode()[0])\n",
        "new_df_kendaraan['Kendaraan_Rusak'] = new_df_kendaraan['Kendaraan_Rusak'].fillna(new_df_kendaraan['Kendaraan_Rusak'].mode()[0])\n",
        "new_df_kendaraan['Premi'] = new_df_kendaraan['Premi'].fillna(new_df_kendaraan['Premi'].mean())\n",
        "new_df_kendaraan['Kanal_Penjualan'] = new_df_kendaraan['Kanal_Penjualan'].fillna(new_df_kendaraan['Kanal_Penjualan'].mode()[0])\n",
        "new_df_kendaraan['Lama_Berlangganan'] = new_df_kendaraan['Lama_Berlangganan'].fillna(new_df_kendaraan['Lama_Berlangganan'].mean())"
      ],
      "execution_count": null,
      "outputs": []
    },
    {
      "cell_type": "code",
      "metadata": {
        "id": "tjYP1wbAorw8"
      },
      "source": [
        "# new_df_kendaraan2 = new_df_kendaraan.fillna(new_df_kendaraan.mean())"
      ],
      "execution_count": null,
      "outputs": []
    },
    {
      "cell_type": "code",
      "metadata": {
        "colab": {
          "base_uri": "https://localhost:8080/"
        },
        "id": "_VcPFICjnc9-",
        "outputId": "601ad055-ae18-4817-8535-8e35f61a0618"
      },
      "source": [
        "new_df_kendaraan.isna().sum()"
      ],
      "execution_count": null,
      "outputs": [
        {
          "output_type": "execute_result",
          "data": {
            "text/plain": [
              "Jenis_Kelamin        0\n",
              "Umur                 0\n",
              "SIM                  0\n",
              "Kode_Daerah          0\n",
              "Sudah_Asuransi       0\n",
              "Umur_Kendaraan       0\n",
              "Kendaraan_Rusak      0\n",
              "Premi                0\n",
              "Kanal_Penjualan      0\n",
              "Lama_Berlangganan    0\n",
              "dtype: int64"
            ]
          },
          "metadata": {},
          "execution_count": 126
        }
      ]
    },
    {
      "cell_type": "code",
      "metadata": {
        "id": "EIqtnq1QXncH"
      },
      "source": [
        "def get_label(data) :\n",
        "    conditions = []\n",
        "    choices = []\n",
        "    for idx, val in enumerate(data.unique()):\n",
        "        conditions.append(data.str.contains(val))\n",
        "        choices.append(idx)\n",
        "    \n",
        "    return np.select(conditions, choices)"
      ],
      "execution_count": null,
      "outputs": []
    },
    {
      "cell_type": "code",
      "metadata": {
        "id": "2nAcqePX1PS8"
      },
      "source": [
        "#labelling data\n",
        "new_df_kendaraan[\"Jenis_Kelamin\"] = get_label(new_df_kendaraan[\"Jenis_Kelamin\"])\n",
        "\n",
        "new_df_kendaraan[\"Umur_Kendaraan\"] = get_label(new_df_kendaraan[\"Umur_Kendaraan\"])\n",
        "\n",
        "new_df_kendaraan[\"Kendaraan_Rusak\"] = get_label(new_df_kendaraan[\"Kendaraan_Rusak\"])\n"
      ],
      "execution_count": null,
      "outputs": []
    },
    {
      "cell_type": "code",
      "metadata": {
        "colab": {
          "base_uri": "https://localhost:8080/",
          "height": 203
        },
        "id": "3F35FWW73wLv",
        "outputId": "4e2ce757-8751-4f8a-efc5-73a7818d5f1b"
      },
      "source": [
        "new_df_kendaraan.head()"
      ],
      "execution_count": null,
      "outputs": [
        {
          "output_type": "execute_result",
          "data": {
            "text/html": [
              "<div>\n",
              "<style scoped>\n",
              "    .dataframe tbody tr th:only-of-type {\n",
              "        vertical-align: middle;\n",
              "    }\n",
              "\n",
              "    .dataframe tbody tr th {\n",
              "        vertical-align: top;\n",
              "    }\n",
              "\n",
              "    .dataframe thead th {\n",
              "        text-align: right;\n",
              "    }\n",
              "</style>\n",
              "<table border=\"1\" class=\"dataframe\">\n",
              "  <thead>\n",
              "    <tr style=\"text-align: right;\">\n",
              "      <th></th>\n",
              "      <th>Jenis_Kelamin</th>\n",
              "      <th>Umur</th>\n",
              "      <th>SIM</th>\n",
              "      <th>Kode_Daerah</th>\n",
              "      <th>Sudah_Asuransi</th>\n",
              "      <th>Umur_Kendaraan</th>\n",
              "      <th>Kendaraan_Rusak</th>\n",
              "      <th>Premi</th>\n",
              "      <th>Kanal_Penjualan</th>\n",
              "      <th>Lama_Berlangganan</th>\n",
              "    </tr>\n",
              "  </thead>\n",
              "  <tbody>\n",
              "    <tr>\n",
              "      <th>0</th>\n",
              "      <td>0</td>\n",
              "      <td>30.0</td>\n",
              "      <td>1.0</td>\n",
              "      <td>33.0</td>\n",
              "      <td>1.0</td>\n",
              "      <td>0</td>\n",
              "      <td>0</td>\n",
              "      <td>28029.0</td>\n",
              "      <td>152.0</td>\n",
              "      <td>97.0</td>\n",
              "    </tr>\n",
              "    <tr>\n",
              "      <th>1</th>\n",
              "      <td>1</td>\n",
              "      <td>48.0</td>\n",
              "      <td>1.0</td>\n",
              "      <td>39.0</td>\n",
              "      <td>0.0</td>\n",
              "      <td>1</td>\n",
              "      <td>1</td>\n",
              "      <td>25800.0</td>\n",
              "      <td>29.0</td>\n",
              "      <td>158.0</td>\n",
              "    </tr>\n",
              "    <tr>\n",
              "      <th>2</th>\n",
              "      <td>1</td>\n",
              "      <td>21.0</td>\n",
              "      <td>1.0</td>\n",
              "      <td>46.0</td>\n",
              "      <td>1.0</td>\n",
              "      <td>0</td>\n",
              "      <td>0</td>\n",
              "      <td>32733.0</td>\n",
              "      <td>160.0</td>\n",
              "      <td>119.0</td>\n",
              "    </tr>\n",
              "    <tr>\n",
              "      <th>3</th>\n",
              "      <td>0</td>\n",
              "      <td>58.0</td>\n",
              "      <td>1.0</td>\n",
              "      <td>48.0</td>\n",
              "      <td>0.0</td>\n",
              "      <td>2</td>\n",
              "      <td>0</td>\n",
              "      <td>2630.0</td>\n",
              "      <td>124.0</td>\n",
              "      <td>63.0</td>\n",
              "    </tr>\n",
              "    <tr>\n",
              "      <th>4</th>\n",
              "      <td>1</td>\n",
              "      <td>50.0</td>\n",
              "      <td>1.0</td>\n",
              "      <td>35.0</td>\n",
              "      <td>0.0</td>\n",
              "      <td>1</td>\n",
              "      <td>1</td>\n",
              "      <td>34857.0</td>\n",
              "      <td>88.0</td>\n",
              "      <td>194.0</td>\n",
              "    </tr>\n",
              "  </tbody>\n",
              "</table>\n",
              "</div>"
            ],
            "text/plain": [
              "   Jenis_Kelamin  Umur  SIM  ...    Premi  Kanal_Penjualan  Lama_Berlangganan\n",
              "0              0  30.0  1.0  ...  28029.0            152.0               97.0\n",
              "1              1  48.0  1.0  ...  25800.0             29.0              158.0\n",
              "2              1  21.0  1.0  ...  32733.0            160.0              119.0\n",
              "3              0  58.0  1.0  ...   2630.0            124.0               63.0\n",
              "4              1  50.0  1.0  ...  34857.0             88.0              194.0\n",
              "\n",
              "[5 rows x 10 columns]"
            ]
          },
          "metadata": {},
          "execution_count": 85
        }
      ]
    },
    {
      "cell_type": "code",
      "metadata": {
        "id": "ss8G7Y9BzQsf"
      },
      "source": [
        "# labelling_data = {'Jenis_Kelamin' : {'Wanita' : 0, 'Pria' : 1},\n",
        "#                   'Umur_Kendaraan' : {'1-2 Tahun':0, '< 1 Tahun' : 1, '> 2 Tahun' : 2 },\n",
        "#                   'Kendaraan_Rusak' : {'Pernah':1, 'Tidak':0}}"
      ],
      "execution_count": null,
      "outputs": []
    },
    {
      "cell_type": "code",
      "metadata": {
        "id": "7eJoJEJI0VIn"
      },
      "source": [
        "# new_df_kendaraan = new_df_kendaraan.replace(labelling_data)\n",
        "# new_df_kendaraan.describe()"
      ],
      "execution_count": null,
      "outputs": []
    },
    {
      "cell_type": "code",
      "metadata": {
        "id": "pzO8HyX0TWu-"
      },
      "source": [
        "# from sklearn.preprocessing import MinMaxScaler\n",
        "# scaler = MinMaxScaler()\n",
        "# scaler.fit(new_df_kendaraan[['Lama_Berlangganan']])\n",
        "# new_df_kendaraan['Lama_Berlangganan'] = scaler.transform(new_df_kendaraan[['Lama_Berlangganan']])\n",
        "\n",
        "# scaler.fit(new_df_kendaraan[['Kode_Daerah']])\n",
        "# new_df_kendaraan['Kode_Daerah'] = scaler.transform(new_df_kendaraan[['Kode_Daerah']])"
      ],
      "execution_count": null,
      "outputs": []
    },
    {
      "cell_type": "code",
      "metadata": {
        "id": "_tupHDJDighj"
      },
      "source": [
        "new_df_kendaraan=(new_df_kendaraan-new_df_kendaraan.mean())/new_df_kendaraan.std()"
      ],
      "execution_count": null,
      "outputs": []
    },
    {
      "cell_type": "code",
      "metadata": {
        "colab": {
          "base_uri": "https://localhost:8080/",
          "height": 705
        },
        "id": "f9irKmEXV25U",
        "outputId": "d30d58ea-c25c-4ae2-f02a-bcf8754886a6"
      },
      "source": [
        "df_corel = new_df_kendaraan.corr()\n",
        "fig, ax = plt.subplots(figsize=(10, 10))\n",
        "sns.heatmap(df_corel, annot = True, ax = ax)"
      ],
      "execution_count": null,
      "outputs": [
        {
          "output_type": "execute_result",
          "data": {
            "text/plain": [
              "<matplotlib.axes._subplots.AxesSubplot at 0x7f32fe12a390>"
            ]
          },
          "metadata": {},
          "execution_count": 87
        },
        {
          "output_type": "display_data",
          "data": {
            "image/png": "[encoded data removed]",
            "text/plain": [
              "<Figure size 720x720 with 2 Axes>"
            ]
          },
          "metadata": {
            "needs_background": "light"
          }
        }
      ]
    },
    {
      "cell_type": "code",
      "metadata": {
        "colab": {
          "base_uri": "https://localhost:8080/",
          "height": 297
        },
        "id": "kkt3QXDoTfFz",
        "outputId": "d18e3c02-fd06-4abe-a18e-350d50af7ad7"
      },
      "source": [
        "plt.scatter(new_df_kendaraan.Kode_Daerah, new_df_kendaraan.Lama_Berlangganan)\n",
        "plt.xlabel('Sudah_Asuransi')\n",
        "plt.ylabel('Umur_Kendaraan')"
      ],
      "execution_count": null,
      "outputs": [
        {
          "output_type": "execute_result",
          "data": {
            "text/plain": [
              "Text(0, 0.5, 'Umur_Kendaraan')"
            ]
          },
          "metadata": {},
          "execution_count": 88
        },
        {
          "output_type": "display_data",
          "data": {
            "image/png": "[encoded data removed]",
            "text/plain": [
              "<Figure size 432x288 with 1 Axes>"
            ]
          },
          "metadata": {
            "needs_background": "light"
          }
        }
      ]
    },
    {
      "cell_type": "code",
      "metadata": {
        "id": "sZ_R6l4sXZfd"
      },
      "source": [
        "#pengambilan kolom Kode_daerah dan  Lama_Berlangganan\n",
        "\n",
        "df_cluster = [\"Kode_daerah\", \" Lama_Berlangganan\"]\n",
        "df_cluster_data = new_df_kendaraan[df_cluster].to_numpy()"
      ],
      "execution_count": null,
      "outputs": []
    },
    {
      "cell_type": "code",
      "metadata": {
        "id": "KBBjByjfR0xF"
      },
      "source": [
        "# class kMeans :\n",
        "#   def euclideanDist(d1,d2):\n",
        "#     return np.sqrt(np.sum((d1-d2)**2))\n",
        "\n",
        "#   def random_centroid(df,k):\n",
        "#     random_idx = [np.random.randint(len(df)) for i in range(k)]\n",
        "#     centroids = []\n",
        "#     for i in random_idx:\n",
        "#       centroids.append(df.iloc[i].tolist())\n",
        "#     return np.asarray(centroids)\n",
        "\n",
        "#   def DOC(df,centroids,k):\n",
        "#     save_pca = []\n",
        "#     for i in range(len(df)):\n",
        "#       euc_d = []\n",
        "#       for j in range(k):\n",
        "#         euc_d.append(euclideanDist(df.iloc[i].tolist(),centroids[j]))\n",
        "#       save_pca.append(euc_d)\n",
        "#     return np.asarray(save_pca)\n",
        "\n",
        "#   def assign_cluster(df,centroids,k):\n",
        "#     cluster = []\n",
        "#     for i in range(len(df)):\n",
        "#       euc_d = []\n",
        "#       for j in range(k):\n",
        "#         euc_d.append(euclideanDist(df.iloc[i],centroids[j]))\n",
        "#       idx = np.argmin(euc_d)\n",
        "#       cluster.append(idx)\n",
        "#     return np.asarray(cluster)\n",
        "\n",
        "\n",
        "# def compute_centroid(df,cluster,k):\n",
        "#   centroid = []\n",
        "#   for i in range(k):\n",
        "#     temp_arr = []\n",
        "#     for j in range(len(df)):\n",
        "#       if (cluster[j]==i).all():\n",
        "#         temp_arr.append(df.iloc[j].tolist())\n",
        "#     if (len(temp_arr)!=0):\n",
        "#       centroid.append(np.mean(temp_arr,axis=0))\n",
        "#     else:\n",
        "#       centroid.append([0]*df.shape[1])\n",
        "#   return np.asarray(centroid)\n",
        "\n",
        "# def inputDOC(new_df2_kendaraan,centroids,cluster,k):\n",
        "#   new_df2_kendaraan = copy.deepcopy(new_df2_kendaraan)\n",
        "#   doc = DOC(new_df2_kendaraan,centroids,k)\n",
        "#   for j in range(k):\n",
        "#     new_df2_kendaraan['D(O,C{})'.format(j+1)] = [doc[i][j] for i in range(len(doc))]\n",
        "    \n",
        "#   new_df2_kendaraan['Cluster'] = cluster\n",
        "#   return new_df2_kendaraan\n",
        "\n",
        "# def clusterisasi(df_k_Means,k):\n",
        "#   cek = True\n",
        "#   centroid = random_centroid(k_Means,k)\n",
        "#   new_df2_kendaraan = copy.deepcopy(k_Means)\n",
        "#   while (cek):\n",
        "#     oldcentroid = copy.deepcopy(centroid)\n",
        "#     cluster = assign_cluster(new_df2_kendaraan,centroid,k) \n",
        "#     centroid = compute_centroid(new_df2_kendaraan,cluster,k)\n",
        "#     if (oldcentroid==centroid).all():\n",
        "#       cek = False\n",
        "#   return np.asarray(centroid),np.asarray(cluster+1)"
      ],
      "execution_count": null,
      "outputs": []
    },
    {
      "cell_type": "code",
      "metadata": {
        "id": "wVFSihX8GtnA"
      },
      "source": [
        "class k_means:\n",
        "    def __init__(self, K, max_iteration=15, tolerance=0.00012,):\n",
        "        self.K = K\n",
        "        self.max_iteration = max_iteration\n",
        "        self.tolerence = tolerance\n",
        "\n",
        "    def _init_centroids(self, data):\n",
        "      # Inisiasi empty cluster\n",
        "        centroids = {}\n",
        "        # Set rentang nilai k\n",
        "        for i in range(self.K):\n",
        "            centroids[i] = data[random.randint(0, len(data) - 1)]\n",
        "        return centroids\n",
        "\n",
        "    # Menetukan Jarak Data\n",
        "    def _euclidean(self, x, y):\n",
        "        return np.sqrt(sum((x - y)**2))\n",
        "\n",
        "    def _init_clusters(self):\n",
        "        clusters = {}\n",
        "        for i in range(self.K):\n",
        "            clusters[i] = []\n",
        "        return clusters\n",
        "\n",
        "    def _calculate_centroids(self, data):\n",
        "        for val in self.clusters:\n",
        "            if not self.clusters[val] :\n",
        "                self.centroids[val] = self._init_centroids(data)[0]\n",
        "            else :\n",
        "                self.centroids[val] = np.mean(self.clusters[val], axis=0)\n",
        "\n",
        "    def _calculate_distance(self, data):\n",
        "        for val in data:\n",
        "            distMinIndex = self.predict(val)\n",
        "            self.clusters[distMinIndex].append(val)\n",
        "    \n",
        "    def fit(self, data):\n",
        "        self.centroids = self._init_centroids(data)\n",
        "        for i in range(self.max_iteration):\n",
        "            old_centroids = self.centroids.copy()\n",
        "            self.clusters = self._init_clusters()\n",
        "            self._calculate_distance(data)\n",
        "            self._calculate_centroids(data)\n",
        "\n",
        "            optimized = True\n",
        "\n",
        "            for i in self.centroids:\n",
        "                current_centroid = self.centroids[i]\n",
        "                old_centroid = old_centroids[i]\n",
        "                if np.sum((current_centroid - old_centroid) / old_centroid * 100.0) > self.tolerence:\n",
        "                    optimized = False\n",
        "                    \n",
        "            if optimized:\n",
        "                break\n",
        "            \n",
        "    def predict(self, data):\n",
        "        dist = []\n",
        "        for c in self.centroids:\n",
        "            dist.append(self._euclidean(data, self.centroids[c]))\n",
        "        distMinIndex = dist.index(min(dist))\n",
        "        return distMinIndex"
      ],
      "execution_count": null,
      "outputs": []
    },
    {
      "cell_type": "code",
      "metadata": {
        "id": "zhNupDY2tFJp"
      },
      "source": [
        "# class K_Means:\n",
        "#     def __init__(self, k=3, tol=0.001, max_iter=300):\n",
        "#         self.k = k\n",
        "#         self.tol = tol\n",
        "#         self.max_iter = max_iter\n",
        "\n",
        "#     def fit(self, data):\n",
        "\n",
        "#         self.centroids = {}\n",
        "\n",
        "#         for i in range(self.k):\n",
        "#             self.centroids[i] = data[i]\n",
        "\n",
        "#         for i in range(self.max_iter):\n",
        "#             self.classifications = {}\n",
        "\n",
        "#             for i in range(self.k):\n",
        "#                 self.classifications[i] = []\n",
        "\n",
        "#             for featureset in data:\n",
        "#                 distances = [np.linalg.norm(\n",
        "#                     featureset-self.centroids[centroid]) for centroid in self.centroids]\n",
        "#                 classification = distances.index(min(distances))\n",
        "#                 self.classifications[classification].append(featureset)\n",
        "\n",
        "#             prev_centroids = dict(self.centroids)\n",
        "\n",
        "#             for classification in self.classifications:\n",
        "#                 self.centroids[classification] = np.average(\n",
        "#                     self.classifications[classification], axis=0)\n",
        "\n",
        "#             optimized = True\n",
        "\n",
        "#             for c in self.centroids:\n",
        "#                 original_centroid = prev_centroids[c]\n",
        "#                 current_centroid = self.centroids[c]\n",
        "#                 if np.sum((current_centroid-original_centroid)/original_centroid*100.0) > self.tol:\n",
        "#                     print(np.sum((current_centroid-original_centroid) /\n",
        "#                                  original_centroid*100.0))\n",
        "#                     optimized = False\n",
        "\n",
        "#             if optimized:\n",
        "#                 break\n",
        "\n",
        "#     def predict(self, data):\n",
        "#         distances = [np.linalg.norm(data-self.centroids[centroid])\n",
        "#                      for centroid in self.centroids]\n",
        "#         classification = distances.index(min(distances))\n",
        "#         return classification"
      ],
      "execution_count": null,
      "outputs": []
    },
    {
      "cell_type": "code",
      "metadata": {
        "id": "6d9pQr8VHrB4"
      },
      "source": [
        "# Menetukan Jumlah Centroid\n",
        "k = 2\n",
        "kmeans = k_means(k)\n",
        "kmeans.fit(df_cluster_data)"
      ],
      "execution_count": null,
      "outputs": []
    },
    {
      "cell_type": "code",
      "metadata": {
        "colab": {
          "base_uri": "https://localhost:8080/"
        },
        "id": "AAT8lum6Iqtz",
        "outputId": "1f12b16c-c91d-4a91-dffb-c9c11312ccef"
      },
      "source": [
        "# Melihat posisi centroid\n",
        "for i in range(k):\n",
        "    print(f'Centroid {i+1} :', kmeans.centroids[i])"
      ],
      "execution_count": null,
      "outputs": [
        {
          "output_type": "stream",
          "name": "stdout",
          "text": [
            "Centroid 1 : [0.09634785 0.57325783]\n",
            "Centroid 2 : [-0.2764749  -1.64499148]\n"
          ]
        }
      ]
    },
    {
      "cell_type": "code",
      "metadata": {
        "id": "WQ1K2rqqdfXJ"
      },
      "source": [
        "# df1 = new_df_kendaraan[new_df_kendaraan.k_means==0]\n",
        "# df2 = new_df_kendaraan[new_df_kendaraan.k_means==1]\n",
        "# df3 = new_df_kendaraan[new_df_kendaraan.k_means==2]\n",
        "# plt.scatter(df1.Age,df1['Income($)'],color='green')\n",
        "# plt.scatter(df2.Age,df2['Income($)'],color='red')\n",
        "# plt.scatter(df3.Age,df3['Income($)'],color='black')\n",
        "# plt.scatter(kmeans.centroids[:,0],kmeans.centroids[:,1],color='purple',marker='*',label='centroid')\n",
        "# plt.legend()"
      ],
      "execution_count": null,
      "outputs": []
    },
    {
      "cell_type": "code",
      "metadata": {
        "colab": {
          "base_uri": "https://localhost:8080/",
          "height": 622
        },
        "id": "ocfnLvkEIvzV",
        "outputId": "9d86d5a3-a7f1-44e5-857f-ea6de3078372"
      },
      "source": [
        "#Visualisasi Centroid\n",
        "colors = [\"#\"+''.join([random.choice('0123456789ABCDEF') for j in range(6)]) for i in range(k)]\n",
        "\n",
        "plt.figure(figsize=(10, 10))\n",
        "plt.title('Hasil Clustering')\n",
        "\n",
        "for cluster in kmeans.clusters:\n",
        "    data = np.array(kmeans.clusters[cluster])\n",
        "    x, y = data.T\n",
        "    plt.scatter(\n",
        "        x,\n",
        "        y,\n",
        "        color=colors[cluster],\n",
        "        label=f'Cluster {cluster + 1}'\n",
        "    )\n",
        "\n",
        "for centroid in kmeans.centroids:\n",
        "    plt.scatter(kmeans.centroids[centroid][0], kmeans.centroids[centroid][1], color='k', marker='*', s=100, linewidths=3)\n",
        "plt.scatter(kmeans.centroids[0][0], kmeans.centroids[0][1], label=\"Centroids\", color='k', marker='*', s=100, linewidths=3)\n",
        "\n",
        "\n",
        "plt.xlabel(df_cluster[0])\n",
        "plt.ylabel(df_cluster[1])\n",
        "plt.legend(loc='best', bbox_to_anchor=(1.02,0.7))\n",
        "plt.show()"
      ],
      "execution_count": null,
      "outputs": [
        {
          "output_type": "display_data",
          "data": {
            "image/png": "[encoded data removed]",
            "text/plain": [
              "<Figure size 720x720 with 1 Axes>"
            ]
          },
          "metadata": {
            "needs_background": "light"
          }
        }
      ]
    },
    {
      "cell_type": "code",
      "metadata": {
        "id": "e8ciPsOgMqOP"
      },
      "source": [
        "# k_range = range(1, 10)\n",
        "# SSE = []\n",
        "# for K in k_range:\n",
        "#     km = k_means(K=k)\n",
        "#     km.fit(new_df_kendaraan[['Kode_Daerah','Lama_Berlangganan']])\n",
        "#     sse.append(km.inertia_)"
      ],
      "execution_count": null,
      "outputs": []
    },
    {
      "cell_type": "code",
      "metadata": {
        "colab": {
          "base_uri": "https://localhost:8080/"
        },
        "id": "RXlx469ELJV8",
        "outputId": "9b1ae67d-7d1f-4502-a92f-f0ad1234fef2"
      },
      "source": [
        "#elbow method\n",
        "elbow = []\n",
        "\n",
        "K = range(1, 10)\n",
        "\n",
        "for i in K:\n",
        "    kmeans = k_means(i, max_iteration=2)\n",
        "    kmeans.fit(df_cluster_data)\n",
        "    elbow.append(sum(np.min(cdist(df_cluster_data, list(kmeans.centroids.values()),'euclidean'), axis=1)) / new_df_kendaraan[df_cluster].shape[0])\n",
        "print(elbow)"
      ],
      "execution_count": null,
      "outputs": [
        {
          "output_type": "stream",
          "name": "stdout",
          "text": [
            "[1.3679929868013523, 0.9944675097317726, 0.5546285784413031, 0.5788400487652531, 0.13420894560254934, 0.12191425177602336, 0.09431822178371696, 0.0768123862734025, 0.052854980280172104]\n"
          ]
        }
      ]
    },
    {
      "cell_type": "code",
      "metadata": {
        "id": "WHR7V_XUs7Kf"
      },
      "source": [
        "# from scipy.spatial.distance \n",
        "# import cdist\n",
        "\n",
        "# distortions = []\n",
        "\n",
        "# K = range(1, 10)\n",
        "\n",
        "# for i in K:\n",
        "#     kmeans = KMeans(i)\n",
        "#     kmeans.fit(selected_data)\n",
        "#     distortions.append(sum(np.min(cdist(selected_data, list(kmeans.centroids.values()),'euclidean'), axis=1)) / df[selected_data_col].shape[0])\n",
        "# print(distortions)"
      ],
      "execution_count": null,
      "outputs": []
    },
    {
      "cell_type": "code",
      "metadata": {
        "colab": {
          "base_uri": "https://localhost:8080/",
          "height": 295
        },
        "id": "EzMx-4eyMMgZ",
        "outputId": "bf735ff9-4cf9-45f4-dc12-49426cc2b1ba"
      },
      "source": [
        "# Plot data pada elbow method\n",
        "plt.plot(K, elbow, 'bx-')\n",
        "plt.xlabel('Nilai K')\n",
        "plt.ylabel('elbow')\n",
        "plt.title('Evaluasi dengan elbwo')\n",
        "plt.show()"
      ],
      "execution_count": null,
      "outputs": [
        {
          "output_type": "display_data",
          "data": {
            "image/png": "[encoded data removed]",
            "text/plain": [
              "<Figure size 432x288 with 1 Axes>"
            ]
          },
          "metadata": {
            "needs_background": "light"
          }
        }
      ]
    }
  ]
}